{
 "cells": [
  {
   "cell_type": "code",
   "execution_count": 3,
   "id": "757b44c1-e516-47a6-87a2-3d25738d31cc",
   "metadata": {},
   "outputs": [
    {
     "name": "stdout",
     "output_type": "stream",
     "text": [
      "too low\n",
      "too low\n",
      "too low\n",
      "too low\n",
      "too low\n",
      "found it!\n"
     ]
    }
   ],
   "source": [
    "\"\"\"\n",
    "Daniel Anderson\n",
    "M02 Programming Assignment\n",
    "Question 6.3\n",
    "Date 11/2/2024\n",
    "\"\"\"\n",
    "guess_me = 5\n",
    "for number in range(10):\n",
    "    if number < guess_me:\n",
    "        print('too low')\n",
    "    if number == guess_me:\n",
    "        print('found it!')\n",
    "        break\n",
    "    if number > guess_me:\n",
    "        print('oops')\n",
    "        break\n",
    "        "
   ]
  },
  {
   "cell_type": "code",
   "execution_count": null,
   "id": "402877f6-6164-459b-931d-2687e2a83d4b",
   "metadata": {},
   "outputs": [],
   "source": []
  }
 ],
 "metadata": {
  "kernelspec": {
   "display_name": "Python 3 (ipykernel)",
   "language": "python",
   "name": "python3"
  },
  "language_info": {
   "codemirror_mode": {
    "name": "ipython",
    "version": 3
   },
   "file_extension": ".py",
   "mimetype": "text/x-python",
   "name": "python",
   "nbconvert_exporter": "python",
   "pygments_lexer": "ipython3",
   "version": "3.12.7"
  }
 },
 "nbformat": 4,
 "nbformat_minor": 5
}
