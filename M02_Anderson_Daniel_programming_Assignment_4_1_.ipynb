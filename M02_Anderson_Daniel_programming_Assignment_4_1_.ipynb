{
 "cells": [
  {
   "cell_type": "code",
   "execution_count": 1,
   "id": "7476f822-4116-4049-9833-1f8403e04fcc",
   "metadata": {},
   "outputs": [
    {
     "name": "stdout",
     "output_type": "stream",
     "text": [
      "too high\n"
     ]
    }
   ],
   "source": [
    "\"\"\"\n",
    "Daniel Anderson\n",
    "M02 Programming Assignment\n",
    "Question 4.1\n",
    "Date 11/02/2024\n",
    "\"\"\"\n",
    "# define varible secret\n",
    "secret = 6\n",
    "# define variable guess\n",
    "guess = 8\n",
    "\n",
    "if guess < secret :\n",
    "    print(\"too low\")\n",
    "elif guess > secret :\n",
    "    print(\"too high\")\n",
    "else:\n",
    "    print(\"just right\")"
   ]
  },
  {
   "cell_type": "code",
   "execution_count": null,
   "id": "2ce8a568-4ed2-4979-b9a8-b0f8670f2231",
   "metadata": {},
   "outputs": [],
   "source": []
  }
 ],
 "metadata": {
  "kernelspec": {
   "display_name": "Python 3 (ipykernel)",
   "language": "python",
   "name": "python3"
  },
  "language_info": {
   "codemirror_mode": {
    "name": "ipython",
    "version": 3
   },
   "file_extension": ".py",
   "mimetype": "text/x-python",
   "name": "python",
   "nbconvert_exporter": "python",
   "pygments_lexer": "ipython3",
   "version": "3.12.7"
  }
 },
 "nbformat": 4,
 "nbformat_minor": 5
}
