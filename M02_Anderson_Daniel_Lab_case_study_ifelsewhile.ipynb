{
 "cells": [
  {
   "cell_type": "code",
   "execution_count": 4,
   "id": "9d09cce5-5eb1-4202-ab83-4f9a46b774f2",
   "metadata": {},
   "outputs": [
    {
     "name": "stdin",
     "output_type": "stream",
     "text": [
      "Enter students last name: anderson\n",
      "Enter students first name: daniel\n",
      "please enter gpa 3.5\n"
     ]
    },
    {
     "name": "stdout",
     "output_type": "stream",
     "text": [
      "daniel anderson has made the Dean's list\n"
     ]
    },
    {
     "name": "stdin",
     "output_type": "stream",
     "text": [
      "Enter students last name: anderson\n",
      "Enter students first name: alisha\n",
      "please enter gpa 3.25\n"
     ]
    },
    {
     "name": "stdout",
     "output_type": "stream",
     "text": [
      "alisha anderson has made the Honor Roll\n"
     ]
    },
    {
     "name": "stdin",
     "output_type": "stream",
     "text": [
      "Enter students last name: anderson\n",
      "Enter students first name: elena\n",
      "please enter gpa 3.4\n"
     ]
    },
    {
     "name": "stdout",
     "output_type": "stream",
     "text": [
      "elena anderson has made the Honor Roll\n"
     ]
    },
    {
     "name": "stdin",
     "output_type": "stream",
     "text": [
      "Enter students last name: anderson\n",
      "Enter students first name: alexandria\n",
      "please enter gpa 3.5\n"
     ]
    },
    {
     "name": "stdout",
     "output_type": "stream",
     "text": [
      "alexandria anderson has made the Dean's list\n"
     ]
    },
    {
     "name": "stdin",
     "output_type": "stream",
     "text": [
      "Enter students last name: ZZZ\n"
     ]
    }
   ],
   "source": [
    "\"\"\"\n",
    "This application will prompt user for first/last name\n",
    "End processing if zzz is entered\n",
    "let user enter number as float\n",
    "test number entered for dean list and honor roll\n",
    "output student name with a message of honor roll or deans list\n",
    "Daniel Anderson\n",
    "Version 1.0\n",
    "11/2/2024\n",
    "\"\"\"\n",
    "student_gpa = float\n",
    "Dean_list = 3.5\n",
    "Honor_roll = 3.25\n",
    "lastname= ''\n",
    "while lastname != 'ZZZ':\n",
    "    lastname = str(input('Enter students last name:'))\n",
    "    if lastname == 'ZZZ':\n",
    "        break\n",
    "    firstname = str(input('Enter students first name:'))\n",
    "    student_gpa = float(input('please enter gpa'))\n",
    "    studentname = firstname +' '+ lastname\n",
    "    if student_gpa >= Dean_list:\n",
    "        print(studentname,'has made the Dean\\'s list')\n",
    "    elif student_gpa >= Honor_roll:\n",
    "        print(studentname,'has made the Honor Roll')\n",
    "    \n",
    "    \n",
    "\n",
    "\n",
    "               \n",
    "                         \n",
    "\n"
   ]
  },
  {
   "cell_type": "code",
   "execution_count": null,
   "id": "c60995f4-92cd-44da-a039-4530c5d956ee",
   "metadata": {},
   "outputs": [],
   "source": []
  }
 ],
 "metadata": {
  "kernelspec": {
   "display_name": "Python 3 (ipykernel)",
   "language": "python",
   "name": "python3"
  },
  "language_info": {
   "codemirror_mode": {
    "name": "ipython",
    "version": 3
   },
   "file_extension": ".py",
   "mimetype": "text/x-python",
   "name": "python",
   "nbconvert_exporter": "python",
   "pygments_lexer": "ipython3",
   "version": "3.12.7"
  }
 },
 "nbformat": 4,
 "nbformat_minor": 5
}
